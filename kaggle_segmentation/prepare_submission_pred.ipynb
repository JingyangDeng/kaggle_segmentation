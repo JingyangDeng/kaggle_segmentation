{
 "cells": [
  {
   "cell_type": "markdown",
   "metadata": {},
   "source": [
    "# Inference "
   ]
  },
  {
   "cell_type": "code",
   "execution_count": 1,
   "metadata": {},
   "outputs": [
    {
     "name": "stderr",
     "output_type": "stream",
     "text": [
      "/home/zhangzr/anaconda3/envs/mmseg-kaggle/lib/python3.10/site-packages/tqdm/auto.py:22: TqdmWarning: IProgress not found. Please update jupyter and ipywidgets. See https://ipywidgets.readthedocs.io/en/stable/user_install.html\n",
      "  from .autonotebook import tqdm as notebook_tqdm\n"
     ]
    }
   ],
   "source": [
    "import os\n",
    "import numpy as np\n",
    "import pandas as pd\n",
    "import glob\n",
    "from tqdm.auto import tqdm\n",
    "from scipy.ndimage import binary_closing, binary_opening, measurements\n",
    "from mmseg.apis import init_segmentor, inference_segmentor\n",
    "import cv2\n",
    "import numpy as np"
   ]
  },
  {
   "cell_type": "markdown",
   "metadata": {},
   "source": [
    "## Usefull tools"
   ]
  },
  {
   "cell_type": "code",
   "execution_count": 2,
   "metadata": {},
   "outputs": [],
   "source": [
    "def rle_encode(img):\n",
    "    pixels = img.flatten()\n",
    "    pixels = np.concatenate([[0], pixels, [0]])\n",
    "    runs = np.where(pixels[1:] != pixels[:-1])[0] + 1\n",
    "    runs[1::2] -= runs[::2]\n",
    "    return ' '.join(str(x) for x in runs)\n",
    "\n",
    "def convert_pred(img):\n",
    "    '''\n",
    "    (H, W) -> (H,W,Class)\n",
    "    '''\n",
    "    H = img.shape[0]\n",
    "    W = img.shape[1]\n",
    "    new_pred = np.zeros((H, W, 3))\n",
    "    for i in range(H):\n",
    "        for j in range(W):\n",
    "            if img[i,j] == 1:\n",
    "                new_pred[i,j,:] = [1,0,0]\n",
    "            if img[i,j] == 2:\n",
    "                new_pred[i,j,:] = [0,1,0]\n",
    "            if img[i,j] == 3:\n",
    "                new_pred[i,j,:] = [0,0,1]\n",
    "    return new_pred\n",
    "\n"
   ]
  },
  {
   "cell_type": "markdown",
   "metadata": {},
   "source": [
    "## Test sub df"
   ]
  },
  {
   "cell_type": "code",
   "execution_count": 3,
   "metadata": {},
   "outputs": [
    {
     "data": {
      "text/html": [
       "<div>\n",
       "<style scoped>\n",
       "    .dataframe tbody tr th:only-of-type {\n",
       "        vertical-align: middle;\n",
       "    }\n",
       "\n",
       "    .dataframe tbody tr th {\n",
       "        vertical-align: top;\n",
       "    }\n",
       "\n",
       "    .dataframe thead th {\n",
       "        text-align: right;\n",
       "    }\n",
       "</style>\n",
       "<table border=\"1\" class=\"dataframe\">\n",
       "  <thead>\n",
       "    <tr style=\"text-align: right;\">\n",
       "      <th></th>\n",
       "      <th>id</th>\n",
       "      <th>class</th>\n",
       "      <th>predicted</th>\n",
       "      <th>file_name</th>\n",
       "      <th>days</th>\n",
       "    </tr>\n",
       "  </thead>\n",
       "  <tbody>\n",
       "    <tr>\n",
       "      <th>0</th>\n",
       "      <td>case123_day20_slice_0001</td>\n",
       "      <td>large_bowel</td>\n",
       "      <td></td>\n",
       "      <td>../input/uw-madison-gi-tract-image-segmentatio...</td>\n",
       "      <td>case123_day20</td>\n",
       "    </tr>\n",
       "    <tr>\n",
       "      <th>1</th>\n",
       "      <td>case123_day20_slice_0001</td>\n",
       "      <td>small_bowel</td>\n",
       "      <td></td>\n",
       "      <td>../input/uw-madison-gi-tract-image-segmentatio...</td>\n",
       "      <td>case123_day20</td>\n",
       "    </tr>\n",
       "    <tr>\n",
       "      <th>2</th>\n",
       "      <td>case123_day20_slice_0001</td>\n",
       "      <td>stomach</td>\n",
       "      <td></td>\n",
       "      <td>../input/uw-madison-gi-tract-image-segmentatio...</td>\n",
       "      <td>case123_day20</td>\n",
       "    </tr>\n",
       "    <tr>\n",
       "      <th>3</th>\n",
       "      <td>case123_day20_slice_0002</td>\n",
       "      <td>large_bowel</td>\n",
       "      <td></td>\n",
       "      <td>../input/uw-madison-gi-tract-image-segmentatio...</td>\n",
       "      <td>case123_day20</td>\n",
       "    </tr>\n",
       "    <tr>\n",
       "      <th>4</th>\n",
       "      <td>case123_day20_slice_0002</td>\n",
       "      <td>small_bowel</td>\n",
       "      <td></td>\n",
       "      <td>../input/uw-madison-gi-tract-image-segmentatio...</td>\n",
       "      <td>case123_day20</td>\n",
       "    </tr>\n",
       "    <tr>\n",
       "      <th>...</th>\n",
       "      <td>...</td>\n",
       "      <td>...</td>\n",
       "      <td>...</td>\n",
       "      <td>...</td>\n",
       "      <td>...</td>\n",
       "    </tr>\n",
       "    <tr>\n",
       "      <th>295</th>\n",
       "      <td>case123_day20_slice_0099</td>\n",
       "      <td>small_bowel</td>\n",
       "      <td></td>\n",
       "      <td>../input/uw-madison-gi-tract-image-segmentatio...</td>\n",
       "      <td>case123_day20</td>\n",
       "    </tr>\n",
       "    <tr>\n",
       "      <th>296</th>\n",
       "      <td>case123_day20_slice_0099</td>\n",
       "      <td>stomach</td>\n",
       "      <td></td>\n",
       "      <td>../input/uw-madison-gi-tract-image-segmentatio...</td>\n",
       "      <td>case123_day20</td>\n",
       "    </tr>\n",
       "    <tr>\n",
       "      <th>297</th>\n",
       "      <td>case123_day20_slice_0100</td>\n",
       "      <td>large_bowel</td>\n",
       "      <td></td>\n",
       "      <td>../input/uw-madison-gi-tract-image-segmentatio...</td>\n",
       "      <td>case123_day20</td>\n",
       "    </tr>\n",
       "    <tr>\n",
       "      <th>298</th>\n",
       "      <td>case123_day20_slice_0100</td>\n",
       "      <td>small_bowel</td>\n",
       "      <td></td>\n",
       "      <td>../input/uw-madison-gi-tract-image-segmentatio...</td>\n",
       "      <td>case123_day20</td>\n",
       "    </tr>\n",
       "    <tr>\n",
       "      <th>299</th>\n",
       "      <td>case123_day20_slice_0100</td>\n",
       "      <td>stomach</td>\n",
       "      <td></td>\n",
       "      <td>../input/uw-madison-gi-tract-image-segmentatio...</td>\n",
       "      <td>case123_day20</td>\n",
       "    </tr>\n",
       "  </tbody>\n",
       "</table>\n",
       "<p>300 rows × 5 columns</p>\n",
       "</div>"
      ],
      "text/plain": [
       "                           id        class predicted  \\\n",
       "0    case123_day20_slice_0001  large_bowel             \n",
       "1    case123_day20_slice_0001  small_bowel             \n",
       "2    case123_day20_slice_0001      stomach             \n",
       "3    case123_day20_slice_0002  large_bowel             \n",
       "4    case123_day20_slice_0002  small_bowel             \n",
       "..                        ...          ...       ...   \n",
       "295  case123_day20_slice_0099  small_bowel             \n",
       "296  case123_day20_slice_0099      stomach             \n",
       "297  case123_day20_slice_0100  large_bowel             \n",
       "298  case123_day20_slice_0100  small_bowel             \n",
       "299  case123_day20_slice_0100      stomach             \n",
       "\n",
       "                                             file_name           days  \n",
       "0    ../input/uw-madison-gi-tract-image-segmentatio...  case123_day20  \n",
       "1    ../input/uw-madison-gi-tract-image-segmentatio...  case123_day20  \n",
       "2    ../input/uw-madison-gi-tract-image-segmentatio...  case123_day20  \n",
       "3    ../input/uw-madison-gi-tract-image-segmentatio...  case123_day20  \n",
       "4    ../input/uw-madison-gi-tract-image-segmentatio...  case123_day20  \n",
       "..                                                 ...            ...  \n",
       "295  ../input/uw-madison-gi-tract-image-segmentatio...  case123_day20  \n",
       "296  ../input/uw-madison-gi-tract-image-segmentatio...  case123_day20  \n",
       "297  ../input/uw-madison-gi-tract-image-segmentatio...  case123_day20  \n",
       "298  ../input/uw-madison-gi-tract-image-segmentatio...  case123_day20  \n",
       "299  ../input/uw-madison-gi-tract-image-segmentatio...  case123_day20  \n",
       "\n",
       "[300 rows x 5 columns]"
      ]
     },
     "execution_count": 3,
     "metadata": {},
     "output_type": "execute_result"
    }
   ],
   "source": [
    "classes = ['large_bowel', 'small_bowel', 'stomach']\n",
    "data_dir = \"../input/uw-madison-gi-tract-image-segmentation/\"\n",
    "test_dir = os.path.join(data_dir, \"test\")\n",
    "sub = pd.read_csv(os.path.join(data_dir, \"sample_submission.csv\"))\n",
    "test_images = glob.glob(os.path.join(test_dir, \"**\", \"*.png\"), recursive = True)\n",
    "\n",
    "if len(test_images) == 0:\n",
    "    test_dir = os.path.join(data_dir, \"train\")\n",
    "    sub = pd.read_csv(os.path.join(data_dir, \"train.csv\"))[[\"id\", \"class\"]].iloc[:100 * 3]\n",
    "    sub[\"predicted\"] = \"\"\n",
    "    test_images = glob.glob(os.path.join(test_dir, \"**\", \"*.png\"), recursive = True)\n",
    "    \n",
    "id2img = {_.rsplit(\"/\", 4)[2] + \"_\" + \"_\".join(_.rsplit(\"/\", 4)[4].split(\"_\")[:2]): _ for _ in test_images}\n",
    "sub[\"file_name\"] = sub.id.map(id2img)\n",
    "sub[\"days\"] = sub.id.apply(lambda x: \"_\".join(x.split(\"_\")[:2]))\n",
    "fname2index = {f + c: i for f, c, i in zip(sub.file_name, sub[\"class\"], sub.index)}\n",
    "sub"
   ]
  },
  {
   "cell_type": "markdown",
   "metadata": {},
   "source": [
    "## Set up model"
   ]
  },
  {
   "cell_type": "code",
   "execution_count": 4,
   "metadata": {},
   "outputs": [
    {
     "name": "stderr",
     "output_type": "stream",
     "text": [
      "/home/zhangzr/mmsegmentation_kaggle/mmseg/models/losses/cross_entropy_loss.py:235: UserWarning: Default ``avg_non_ignore`` is False, if you would like to ignore the certain label and average loss over non-ignore labels, which is the same with PyTorch official cross_entropy, set ``avg_non_ignore=True``.\n",
      "  warnings.warn(\n"
     ]
    },
    {
     "name": "stdout",
     "output_type": "stream",
     "text": [
      "load checkpoint from local path: ../cache/upernet_convnext_base_fp16_256x256_16k_kaggle_no_crop/iter_9600.pth\n"
     ]
    }
   ],
   "source": [
    "config_file = '../cache/upernet_convnext_base_fp16_256x256_16k_kaggle_no_crop/upernet_convnext_base_fp16_256x256_16k_kaggle_no_crop.py'\n",
    "checkpoint_file = '../cache/upernet_convnext_base_fp16_256x256_16k_kaggle_no_crop/iter_9600.pth'\n",
    "# build the model from a config file and a checkpoint file\n",
    "model = init_segmentor(config_file, checkpoint_file, device='cuda:0')"
   ]
  },
  {
   "cell_type": "markdown",
   "metadata": {},
   "source": [
    "## Inference"
   ]
  },
  {
   "cell_type": "code",
   "execution_count": 5,
   "metadata": {},
   "outputs": [
    {
     "name": "stderr",
     "output_type": "stream",
     "text": [
      "100%|██████████| 1/1 [00:38<00:00, 38.43s/it]\n"
     ]
    }
   ],
   "source": [
    "subs = []\n",
    "for day, group in tqdm(sub.groupby(\"days\")):\n",
    "    imgs = []\n",
    "    for file_name in group.file_name.unique():\n",
    "        res = inference_segmentor(model, file_name)[0]\n",
    "        convert_res = convert_pred(res)\n",
    "        for j in range(3):\n",
    "            rle = rle_encode(convert_res[...,j])\n",
    "            index = fname2index[file_name + classes[j]]\n",
    "            sub.loc[index, \"predicted\"] = rle"
   ]
  },
  {
   "cell_type": "code",
   "execution_count": 6,
   "metadata": {},
   "outputs": [
    {
     "data": {
      "text/html": [
       "<div>\n",
       "<style scoped>\n",
       "    .dataframe tbody tr th:only-of-type {\n",
       "        vertical-align: middle;\n",
       "    }\n",
       "\n",
       "    .dataframe tbody tr th {\n",
       "        vertical-align: top;\n",
       "    }\n",
       "\n",
       "    .dataframe thead th {\n",
       "        text-align: right;\n",
       "    }\n",
       "</style>\n",
       "<table border=\"1\" class=\"dataframe\">\n",
       "  <thead>\n",
       "    <tr style=\"text-align: right;\">\n",
       "      <th></th>\n",
       "      <th>id</th>\n",
       "      <th>class</th>\n",
       "      <th>predicted</th>\n",
       "    </tr>\n",
       "  </thead>\n",
       "  <tbody>\n",
       "    <tr>\n",
       "      <th>0</th>\n",
       "      <td>case123_day20_slice_0001</td>\n",
       "      <td>large_bowel</td>\n",
       "      <td>29328 5 29592 8 29856 11 30119 14 30385 14 306...</td>\n",
       "    </tr>\n",
       "    <tr>\n",
       "      <th>1</th>\n",
       "      <td>case123_day20_slice_0001</td>\n",
       "      <td>small_bowel</td>\n",
       "      <td></td>\n",
       "    </tr>\n",
       "    <tr>\n",
       "      <th>2</th>\n",
       "      <td>case123_day20_slice_0001</td>\n",
       "      <td>stomach</td>\n",
       "      <td></td>\n",
       "    </tr>\n",
       "    <tr>\n",
       "      <th>3</th>\n",
       "      <td>case123_day20_slice_0002</td>\n",
       "      <td>large_bowel</td>\n",
       "      <td></td>\n",
       "    </tr>\n",
       "    <tr>\n",
       "      <th>4</th>\n",
       "      <td>case123_day20_slice_0002</td>\n",
       "      <td>small_bowel</td>\n",
       "      <td></td>\n",
       "    </tr>\n",
       "    <tr>\n",
       "      <th>...</th>\n",
       "      <td>...</td>\n",
       "      <td>...</td>\n",
       "      <td>...</td>\n",
       "    </tr>\n",
       "    <tr>\n",
       "      <th>295</th>\n",
       "      <td>case123_day20_slice_0099</td>\n",
       "      <td>small_bowel</td>\n",
       "      <td>20416 5 20680 8 20945 10 21158 1 21209 13 2142...</td>\n",
       "    </tr>\n",
       "    <tr>\n",
       "      <th>296</th>\n",
       "      <td>case123_day20_slice_0099</td>\n",
       "      <td>stomach</td>\n",
       "      <td></td>\n",
       "    </tr>\n",
       "    <tr>\n",
       "      <th>297</th>\n",
       "      <td>case123_day20_slice_0100</td>\n",
       "      <td>large_bowel</td>\n",
       "      <td>13444 6 13709 9 13974 11 14240 11 14506 11 145...</td>\n",
       "    </tr>\n",
       "    <tr>\n",
       "      <th>298</th>\n",
       "      <td>case123_day20_slice_0100</td>\n",
       "      <td>small_bowel</td>\n",
       "      <td>20149 7 20414 9 20679 11 20944 12 21209 14 214...</td>\n",
       "    </tr>\n",
       "    <tr>\n",
       "      <th>299</th>\n",
       "      <td>case123_day20_slice_0100</td>\n",
       "      <td>stomach</td>\n",
       "      <td></td>\n",
       "    </tr>\n",
       "  </tbody>\n",
       "</table>\n",
       "<p>300 rows × 3 columns</p>\n",
       "</div>"
      ],
      "text/plain": [
       "                           id        class  \\\n",
       "0    case123_day20_slice_0001  large_bowel   \n",
       "1    case123_day20_slice_0001  small_bowel   \n",
       "2    case123_day20_slice_0001      stomach   \n",
       "3    case123_day20_slice_0002  large_bowel   \n",
       "4    case123_day20_slice_0002  small_bowel   \n",
       "..                        ...          ...   \n",
       "295  case123_day20_slice_0099  small_bowel   \n",
       "296  case123_day20_slice_0099      stomach   \n",
       "297  case123_day20_slice_0100  large_bowel   \n",
       "298  case123_day20_slice_0100  small_bowel   \n",
       "299  case123_day20_slice_0100      stomach   \n",
       "\n",
       "                                             predicted  \n",
       "0    29328 5 29592 8 29856 11 30119 14 30385 14 306...  \n",
       "1                                                       \n",
       "2                                                       \n",
       "3                                                       \n",
       "4                                                       \n",
       "..                                                 ...  \n",
       "295  20416 5 20680 8 20945 10 21158 1 21209 13 2142...  \n",
       "296                                                     \n",
       "297  13444 6 13709 9 13974 11 14240 11 14506 11 145...  \n",
       "298  20149 7 20414 9 20679 11 20944 12 21209 14 214...  \n",
       "299                                                     \n",
       "\n",
       "[300 rows x 3 columns]"
      ]
     },
     "execution_count": 6,
     "metadata": {},
     "output_type": "execute_result"
    }
   ],
   "source": [
    "sub = sub[[\"id\", \"class\", \"predicted\"]]\n",
    "sub.to_csv(\"submission.csv\", index = False)\n",
    "sub"
   ]
  }
 ],
 "metadata": {
  "interpreter": {
   "hash": "9656c464f062ccfd8ba96c4c3c9350bea1c8e56fc9e2ebfcd9f84a4e99b89eff"
  },
  "kernelspec": {
   "display_name": "Python 3.10.4 ('mmseg-kaggle')",
   "language": "python",
   "name": "python3"
  },
  "language_info": {
   "codemirror_mode": {
    "name": "ipython",
    "version": 3
   },
   "file_extension": ".py",
   "mimetype": "text/x-python",
   "name": "python",
   "nbconvert_exporter": "python",
   "pygments_lexer": "ipython3",
   "version": "3.10.4"
  },
  "orig_nbformat": 4
 },
 "nbformat": 4,
 "nbformat_minor": 2
}
