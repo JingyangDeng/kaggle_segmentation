{
 "cells": [
  {
   "cell_type": "code",
   "execution_count": 1,
   "metadata": {},
   "outputs": [],
   "source": [
    "import os\n",
    "import numpy as np\n",
    "import pandas as pd\n",
    "import glob\n",
    "from tqdm.auto import tqdm\n",
    "from mmseg.apis import init_segmentor, inference_segmentor\n",
    "import cv2\n",
    "import numpy as np\n",
    "import matplotlib.pyplot as plt"
   ]
  },
  {
   "cell_type": "markdown",
   "metadata": {},
   "source": [
    "# Set up models"
   ]
  },
  {
   "cell_type": "code",
   "execution_count": 2,
   "metadata": {},
   "outputs": [
    {
     "name": "stderr",
     "output_type": "stream",
     "text": [
      "/home/zhangzr/mmsegmentation_kaggle/mmseg/models/losses/cross_entropy_loss.py:238: UserWarning: Default ``avg_non_ignore`` is False, if you would like to ignore the certain label and average loss over non-ignore labels, which is the same with PyTorch official cross_entropy, set ``avg_non_ignore=True``.\n",
      "  warnings.warn(\n"
     ]
    },
    {
     "name": "stdout",
     "output_type": "stream",
     "text": [
      "load checkpoint from local path: ../cache/upernet_originsize_convnext_base_fp16_256x256_160k_kaggle_25d_multilabel/best_mDice_iter_64000.pth\n"
     ]
    }
   ],
   "source": [
    "config_file = '../cache/upernet_originsize_convnext_base_fp16_256x256_160k_kaggle_25d_multilabel/upernet_originsize_convnext_base_fp16_256x256_160k_kaggle_25d_multilabel.py'\n",
    "checkpoint_file = '../cache/upernet_originsize_convnext_base_fp16_256x256_160k_kaggle_25d_multilabel/best_mDice_iter_64000.pth'\n",
    "# build the model from a config file and a checkpoint file\n",
    "model = init_segmentor(config_file, checkpoint_file, device='cuda:0')"
   ]
  },
  {
   "cell_type": "markdown",
   "metadata": {},
   "source": [
    "# Utility"
   ]
  },
  {
   "cell_type": "code",
   "execution_count": 3,
   "metadata": {},
   "outputs": [],
   "source": [
    "IMG_SIZE = [320, 384]\n",
    "def load_img(path, size=IMG_SIZE):\n",
    "    img = cv2.imread(path, cv2.IMREAD_UNCHANGED)\n",
    "    shape0 = np.array(img.shape[:2])\n",
    "    resize = np.array(size)\n",
    "    if np.any(shape0!=resize):\n",
    "        diff = resize - shape0\n",
    "        pad0 = diff[0]\n",
    "        pad1 = diff[1]\n",
    "        pady = [pad0//2, pad0//2 + pad0%2]\n",
    "        padx = [pad1//2, pad1//2 + pad1%2]\n",
    "        img = np.pad(img, [pady, padx])\n",
    "        # img = img.reshape((*resize))\n",
    "        img = img.reshape((resize)) # dubug\n",
    "    return img\n",
    "\n",
    "def load_imgs(img_paths, size=IMG_SIZE):\n",
    "    imgs = np.zeros((*size, len(img_paths)), dtype=np.uint16)\n",
    "    for i, img_path in enumerate(img_paths):\n",
    "        img = load_img(img_path, size=size)\n",
    "        imgs[..., i]+=img\n",
    "    return imgs"
   ]
  },
  {
   "cell_type": "code",
   "execution_count": 4,
   "metadata": {},
   "outputs": [],
   "source": [
    "# ref.: https://www.kaggle.com/stainsby/fast-tested-rle\n",
    "def rle_encode(img):\n",
    "    '''\n",
    "    img: numpy array, 1 - mask, 0 - background\n",
    "    Returns run length as string formated\n",
    "    '''\n",
    "    pixels = img.flatten()\n",
    "    pixels = np.concatenate([[0], pixels, [0]])\n",
    "    runs = np.where(pixels[1:] != pixels[:-1])[0] + 1\n",
    "    runs[1::2] -= runs[::2]\n",
    "    return ' '.join(str(x) for x in runs)"
   ]
  },
  {
   "cell_type": "markdown",
   "metadata": {},
   "source": [
    "# Make test submission csv"
   ]
  },
  {
   "cell_type": "code",
   "execution_count": 5,
   "metadata": {},
   "outputs": [
    {
     "name": "stdout",
     "output_type": "stream",
     "text": [
      "Can not find test images!!!!!!\n"
     ]
    },
    {
     "data": {
      "text/html": [
       "<div>\n",
       "<style scoped>\n",
       "    .dataframe tbody tr th:only-of-type {\n",
       "        vertical-align: middle;\n",
       "    }\n",
       "\n",
       "    .dataframe tbody tr th {\n",
       "        vertical-align: top;\n",
       "    }\n",
       "\n",
       "    .dataframe thead th {\n",
       "        text-align: right;\n",
       "    }\n",
       "</style>\n",
       "<table border=\"1\" class=\"dataframe\">\n",
       "  <thead>\n",
       "    <tr style=\"text-align: right;\">\n",
       "      <th></th>\n",
       "      <th>id</th>\n",
       "      <th>class</th>\n",
       "      <th>predicted</th>\n",
       "      <th>file_name</th>\n",
       "      <th>days</th>\n",
       "    </tr>\n",
       "  </thead>\n",
       "  <tbody>\n",
       "    <tr>\n",
       "      <th>0</th>\n",
       "      <td>case123_day20_slice_0001</td>\n",
       "      <td>large_bowel</td>\n",
       "      <td></td>\n",
       "      <td>../input/uw-madison-gi-tract-image-segmentatio...</td>\n",
       "      <td>case123_day20</td>\n",
       "    </tr>\n",
       "    <tr>\n",
       "      <th>1</th>\n",
       "      <td>case123_day20_slice_0001</td>\n",
       "      <td>small_bowel</td>\n",
       "      <td></td>\n",
       "      <td>../input/uw-madison-gi-tract-image-segmentatio...</td>\n",
       "      <td>case123_day20</td>\n",
       "    </tr>\n",
       "    <tr>\n",
       "      <th>2</th>\n",
       "      <td>case123_day20_slice_0001</td>\n",
       "      <td>stomach</td>\n",
       "      <td></td>\n",
       "      <td>../input/uw-madison-gi-tract-image-segmentatio...</td>\n",
       "      <td>case123_day20</td>\n",
       "    </tr>\n",
       "    <tr>\n",
       "      <th>3</th>\n",
       "      <td>case123_day20_slice_0002</td>\n",
       "      <td>large_bowel</td>\n",
       "      <td></td>\n",
       "      <td>../input/uw-madison-gi-tract-image-segmentatio...</td>\n",
       "      <td>case123_day20</td>\n",
       "    </tr>\n",
       "    <tr>\n",
       "      <th>4</th>\n",
       "      <td>case123_day20_slice_0002</td>\n",
       "      <td>small_bowel</td>\n",
       "      <td></td>\n",
       "      <td>../input/uw-madison-gi-tract-image-segmentatio...</td>\n",
       "      <td>case123_day20</td>\n",
       "    </tr>\n",
       "    <tr>\n",
       "      <th>...</th>\n",
       "      <td>...</td>\n",
       "      <td>...</td>\n",
       "      <td>...</td>\n",
       "      <td>...</td>\n",
       "      <td>...</td>\n",
       "    </tr>\n",
       "    <tr>\n",
       "      <th>295</th>\n",
       "      <td>case123_day20_slice_0099</td>\n",
       "      <td>small_bowel</td>\n",
       "      <td></td>\n",
       "      <td>../input/uw-madison-gi-tract-image-segmentatio...</td>\n",
       "      <td>case123_day20</td>\n",
       "    </tr>\n",
       "    <tr>\n",
       "      <th>296</th>\n",
       "      <td>case123_day20_slice_0099</td>\n",
       "      <td>stomach</td>\n",
       "      <td></td>\n",
       "      <td>../input/uw-madison-gi-tract-image-segmentatio...</td>\n",
       "      <td>case123_day20</td>\n",
       "    </tr>\n",
       "    <tr>\n",
       "      <th>297</th>\n",
       "      <td>case123_day20_slice_0100</td>\n",
       "      <td>large_bowel</td>\n",
       "      <td></td>\n",
       "      <td>../input/uw-madison-gi-tract-image-segmentatio...</td>\n",
       "      <td>case123_day20</td>\n",
       "    </tr>\n",
       "    <tr>\n",
       "      <th>298</th>\n",
       "      <td>case123_day20_slice_0100</td>\n",
       "      <td>small_bowel</td>\n",
       "      <td></td>\n",
       "      <td>../input/uw-madison-gi-tract-image-segmentatio...</td>\n",
       "      <td>case123_day20</td>\n",
       "    </tr>\n",
       "    <tr>\n",
       "      <th>299</th>\n",
       "      <td>case123_day20_slice_0100</td>\n",
       "      <td>stomach</td>\n",
       "      <td></td>\n",
       "      <td>../input/uw-madison-gi-tract-image-segmentatio...</td>\n",
       "      <td>case123_day20</td>\n",
       "    </tr>\n",
       "  </tbody>\n",
       "</table>\n",
       "<p>300 rows × 5 columns</p>\n",
       "</div>"
      ],
      "text/plain": [
       "                           id        class predicted  \\\n",
       "0    case123_day20_slice_0001  large_bowel             \n",
       "1    case123_day20_slice_0001  small_bowel             \n",
       "2    case123_day20_slice_0001      stomach             \n",
       "3    case123_day20_slice_0002  large_bowel             \n",
       "4    case123_day20_slice_0002  small_bowel             \n",
       "..                        ...          ...       ...   \n",
       "295  case123_day20_slice_0099  small_bowel             \n",
       "296  case123_day20_slice_0099      stomach             \n",
       "297  case123_day20_slice_0100  large_bowel             \n",
       "298  case123_day20_slice_0100  small_bowel             \n",
       "299  case123_day20_slice_0100      stomach             \n",
       "\n",
       "                                             file_name           days  \n",
       "0    ../input/uw-madison-gi-tract-image-segmentatio...  case123_day20  \n",
       "1    ../input/uw-madison-gi-tract-image-segmentatio...  case123_day20  \n",
       "2    ../input/uw-madison-gi-tract-image-segmentatio...  case123_day20  \n",
       "3    ../input/uw-madison-gi-tract-image-segmentatio...  case123_day20  \n",
       "4    ../input/uw-madison-gi-tract-image-segmentatio...  case123_day20  \n",
       "..                                                 ...            ...  \n",
       "295  ../input/uw-madison-gi-tract-image-segmentatio...  case123_day20  \n",
       "296  ../input/uw-madison-gi-tract-image-segmentatio...  case123_day20  \n",
       "297  ../input/uw-madison-gi-tract-image-segmentatio...  case123_day20  \n",
       "298  ../input/uw-madison-gi-tract-image-segmentatio...  case123_day20  \n",
       "299  ../input/uw-madison-gi-tract-image-segmentatio...  case123_day20  \n",
       "\n",
       "[300 rows x 5 columns]"
      ]
     },
     "execution_count": 5,
     "metadata": {},
     "output_type": "execute_result"
    }
   ],
   "source": [
    "classes = ['large_bowel', 'small_bowel', 'stomach']\n",
    "data_dir = \"../input/uw-madison-gi-tract-image-segmentation/\"\n",
    "test_dir = os.path.join(data_dir, \"test\")\n",
    "sub = pd.read_csv(os.path.join(data_dir, \"sample_submission.csv\"))\n",
    "test_images = glob.glob(os.path.join(test_dir, \"**\", \"*.png\"), recursive = True)\n",
    "\n",
    "if len(test_images) == 0:\n",
    "    print('Can not find test images!!!!!!')\n",
    "    test_dir = os.path.join(data_dir, \"train\")\n",
    "    sub = pd.read_csv(os.path.join(data_dir, \"train.csv\"))[[\"id\", \"class\"]].iloc[:100 * 3]\n",
    "    sub[\"predicted\"] = \"\"\n",
    "    test_images = glob.glob(os.path.join(test_dir, \"**\", \"*.png\"), recursive = True)\n",
    "    \n",
    "id2img = {_.rsplit(\"/\", 4)[2] + \"_\" + \"_\".join(_.rsplit(\"/\", 4)[4].split(\"_\")[:2]): _ for _ in test_images}\n",
    "sub[\"file_name\"] = sub.id.map(id2img)\n",
    "sub[\"days\"] = sub.id.apply(lambda x: \"_\".join(x.split(\"_\")[:2]))\n",
    "fname2index = {f + c: i for f, c, i in zip(sub.file_name, sub[\"class\"], sub.index)}\n",
    "sub"
   ]
  },
  {
   "cell_type": "markdown",
   "metadata": {},
   "source": [
    "# predict"
   ]
  },
  {
   "cell_type": "code",
   "execution_count": 6,
   "metadata": {},
   "outputs": [
    {
     "data": {
      "application/vnd.jupyter.widget-view+json": {
       "model_id": "b4b577a943874c0aa0dcd2443788b26c",
       "version_major": 2,
       "version_minor": 0
      },
      "text/plain": [
       "  0%|          | 0/1 [00:00<?, ?it/s]"
      ]
     },
     "metadata": {},
     "output_type": "display_data"
    }
   ],
   "source": [
    "for day, group in tqdm(sub.groupby(\"days\")):\n",
    "    for file_name in group.file_name.unique():\n",
    "        s = int(os.path.basename(file_name).split(\"_\")[1])\n",
    "        file_names = [file_name.replace(f\"slice_{s:04d}\", f\"slice_{s + i:04d}\") for i in range(-2, 3)]\n",
    "        file_names = [_ for _ in file_names if os.path.exists(_)]\n",
    "        file_names = [file_names[0], file_name, file_names[-1]]\n",
    "        imgs = load_imgs(file_names)\n",
    "        imgs = (imgs - imgs.min())/(imgs.max() - imgs.min())*255.0 # scale image to [0, 255]\n",
    "        imgs = imgs.astype('uint8') # uint16 -> uint8\n",
    "        # cv2.imwrite('/home/zhangzr/mmsegmentation_kaggle/kaggle_segmentation/temp_img_dir/' + file_name.split('/')[-1], imgs)\n",
    "        res = inference_segmentor(model, imgs)[0]\n",
    "        for j in range(3):\n",
    "            rle = rle_encode(res[...,j])\n",
    "            index = fname2index[file_name + classes[j]]\n",
    "            sub.loc[index, \"predicted\"] = rle\n",
    "        \n"
   ]
  },
  {
   "cell_type": "markdown",
   "metadata": {},
   "source": [
    "# Format submission"
   ]
  },
  {
   "cell_type": "code",
   "execution_count": 7,
   "metadata": {},
   "outputs": [
    {
     "data": {
      "text/html": [
       "<div>\n",
       "<style scoped>\n",
       "    .dataframe tbody tr th:only-of-type {\n",
       "        vertical-align: middle;\n",
       "    }\n",
       "\n",
       "    .dataframe tbody tr th {\n",
       "        vertical-align: top;\n",
       "    }\n",
       "\n",
       "    .dataframe thead th {\n",
       "        text-align: right;\n",
       "    }\n",
       "</style>\n",
       "<table border=\"1\" class=\"dataframe\">\n",
       "  <thead>\n",
       "    <tr style=\"text-align: right;\">\n",
       "      <th></th>\n",
       "      <th>id</th>\n",
       "      <th>class</th>\n",
       "      <th>predicted</th>\n",
       "    </tr>\n",
       "  </thead>\n",
       "  <tbody>\n",
       "    <tr>\n",
       "      <th>0</th>\n",
       "      <td>case123_day20_slice_0001</td>\n",
       "      <td>large_bowel</td>\n",
       "      <td></td>\n",
       "    </tr>\n",
       "    <tr>\n",
       "      <th>1</th>\n",
       "      <td>case123_day20_slice_0001</td>\n",
       "      <td>small_bowel</td>\n",
       "      <td></td>\n",
       "    </tr>\n",
       "    <tr>\n",
       "      <th>2</th>\n",
       "      <td>case123_day20_slice_0001</td>\n",
       "      <td>stomach</td>\n",
       "      <td></td>\n",
       "    </tr>\n",
       "    <tr>\n",
       "      <th>3</th>\n",
       "      <td>case123_day20_slice_0002</td>\n",
       "      <td>large_bowel</td>\n",
       "      <td></td>\n",
       "    </tr>\n",
       "    <tr>\n",
       "      <th>4</th>\n",
       "      <td>case123_day20_slice_0002</td>\n",
       "      <td>small_bowel</td>\n",
       "      <td></td>\n",
       "    </tr>\n",
       "    <tr>\n",
       "      <th>...</th>\n",
       "      <td>...</td>\n",
       "      <td>...</td>\n",
       "      <td>...</td>\n",
       "    </tr>\n",
       "    <tr>\n",
       "      <th>295</th>\n",
       "      <td>case123_day20_slice_0099</td>\n",
       "      <td>small_bowel</td>\n",
       "      <td>41290 7 41673 10 41730 9 42057 12 42103 3 4211...</td>\n",
       "    </tr>\n",
       "    <tr>\n",
       "      <th>296</th>\n",
       "      <td>case123_day20_slice_0099</td>\n",
       "      <td>stomach</td>\n",
       "      <td></td>\n",
       "    </tr>\n",
       "    <tr>\n",
       "      <th>297</th>\n",
       "      <td>case123_day20_slice_0100</td>\n",
       "      <td>large_bowel</td>\n",
       "      <td>31326 3 31708 8 31725 3 32092 10 32106 8 32475...</td>\n",
       "    </tr>\n",
       "    <tr>\n",
       "      <th>298</th>\n",
       "      <td>case123_day20_slice_0100</td>\n",
       "      <td>small_bowel</td>\n",
       "      <td>40579 5 40961 9 41290 7 41343 12 41673 10 4171...</td>\n",
       "    </tr>\n",
       "    <tr>\n",
       "      <th>299</th>\n",
       "      <td>case123_day20_slice_0100</td>\n",
       "      <td>stomach</td>\n",
       "      <td></td>\n",
       "    </tr>\n",
       "  </tbody>\n",
       "</table>\n",
       "<p>300 rows × 3 columns</p>\n",
       "</div>"
      ],
      "text/plain": [
       "                           id        class  \\\n",
       "0    case123_day20_slice_0001  large_bowel   \n",
       "1    case123_day20_slice_0001  small_bowel   \n",
       "2    case123_day20_slice_0001      stomach   \n",
       "3    case123_day20_slice_0002  large_bowel   \n",
       "4    case123_day20_slice_0002  small_bowel   \n",
       "..                        ...          ...   \n",
       "295  case123_day20_slice_0099  small_bowel   \n",
       "296  case123_day20_slice_0099      stomach   \n",
       "297  case123_day20_slice_0100  large_bowel   \n",
       "298  case123_day20_slice_0100  small_bowel   \n",
       "299  case123_day20_slice_0100      stomach   \n",
       "\n",
       "                                             predicted  \n",
       "0                                                       \n",
       "1                                                       \n",
       "2                                                       \n",
       "3                                                       \n",
       "4                                                       \n",
       "..                                                 ...  \n",
       "295  41290 7 41673 10 41730 9 42057 12 42103 3 4211...  \n",
       "296                                                     \n",
       "297  31326 3 31708 8 31725 3 32092 10 32106 8 32475...  \n",
       "298  40579 5 40961 9 41290 7 41343 12 41673 10 4171...  \n",
       "299                                                     \n",
       "\n",
       "[300 rows x 3 columns]"
      ]
     },
     "execution_count": 7,
     "metadata": {},
     "output_type": "execute_result"
    }
   ],
   "source": [
    "sub = sub[[\"id\", \"class\", \"predicted\"]]\n",
    "sub.to_csv(\"submission.csv\", index = False)\n",
    "sub"
   ]
  }
 ],
 "metadata": {
  "interpreter": {
   "hash": "9656c464f062ccfd8ba96c4c3c9350bea1c8e56fc9e2ebfcd9f84a4e99b89eff"
  },
  "kernelspec": {
   "display_name": "Python 3.10.4 ('mmseg-kaggle')",
   "language": "python",
   "name": "python3"
  },
  "language_info": {
   "codemirror_mode": {
    "name": "ipython",
    "version": 3
   },
   "file_extension": ".py",
   "mimetype": "text/x-python",
   "name": "python",
   "nbconvert_exporter": "python",
   "pygments_lexer": "ipython3",
   "version": "3.10.4"
  }
 },
 "nbformat": 4,
 "nbformat_minor": 2
}
