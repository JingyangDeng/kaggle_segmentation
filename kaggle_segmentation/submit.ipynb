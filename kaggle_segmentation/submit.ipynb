{
 "cells": [
  {
   "cell_type": "code",
   "execution_count": 1,
   "source": [
    "import os\n",
    "import numpy as np\n",
    "import pandas as pd\n",
    "import glob\n",
    "from tqdm.auto import tqdm\n",
    "from mmseg.apis import init_segmentor, inference_segmentor\n",
    "import cv2\n",
    "import numpy as np\n",
    "import matplotlib.pyplot as plt"
   ],
   "outputs": [],
   "metadata": {}
  },
  {
   "cell_type": "markdown",
   "source": [
    "# Set up models"
   ],
   "metadata": {}
  },
  {
   "cell_type": "code",
   "execution_count": 2,
   "source": [
    "config_file = '../cache/upernet_originsize_convnext_base_fp16_256x256_160k_kaggle_25d_multilabel/upernet_originsize_convnext_base_fp16_256x256_160k_kaggle_25d_multilabel.py'\n",
    "checkpoint_file = '../cache/upernet_originsize_convnext_base_fp16_256x256_160k_kaggle_25d_multilabel/best_mDice_iter_64000.pth'\n",
    "# build the model from a config file and a checkpoint file\n",
    "model = init_segmentor(config_file, checkpoint_file, device='cuda:0')"
   ],
   "outputs": [
    {
     "output_type": "stream",
     "name": "stderr",
     "text": [
      "/home/zhangzr/mmsegmentation_kaggle/mmseg/models/losses/cross_entropy_loss.py:238: UserWarning: Default ``avg_non_ignore`` is False, if you would like to ignore the certain label and average loss over non-ignore labels, which is the same with PyTorch official cross_entropy, set ``avg_non_ignore=True``.\n",
      "  warnings.warn(\n"
     ]
    },
    {
     "output_type": "stream",
     "name": "stdout",
     "text": [
      "load checkpoint from local path: ../cache/upernet_originsize_convnext_base_fp16_256x256_160k_kaggle_25d_multilabel/best_mDice_iter_64000.pth\n"
     ]
    }
   ],
   "metadata": {}
  },
  {
   "cell_type": "markdown",
   "source": [
    "# Utility"
   ],
   "metadata": {}
  },
  {
   "cell_type": "code",
   "execution_count": 2,
   "source": [
    "IMG_SIZE = [320, 384]\n",
    "def load_img(path, size=IMG_SIZE):\n",
    "    img = cv2.imread(path, cv2.IMREAD_UNCHANGED)\n",
    "    shape0 = np.array(img.shape[:2])\n",
    "    resize = np.array(size)\n",
    "    if np.any(shape0!=resize):\n",
    "        diff = resize - shape0\n",
    "        pad0 = diff[0]\n",
    "        pad1 = diff[1]\n",
    "        pady = [pad0//2, pad0//2 + pad0%2]\n",
    "        padx = [pad1//2, pad1//2 + pad1%2]\n",
    "        img = np.pad(img, [pady, padx])\n",
    "        # img = img.reshape((*resize))\n",
    "        img = img.reshape((resize))\n",
    "    return img, shape0\n",
    "\n",
    "def load_imgs(img_paths, size=IMG_SIZE):\n",
    "    imgs = np.zeros((*size, len(img_paths)), dtype=np.float32)\n",
    "    for i, img_path in enumerate(img_paths):\n",
    "        if i==0:\n",
    "            img, shape0 = load_img(img_path, size=size)\n",
    "        else:\n",
    "            img, _ = load_img(img_path, size=size)\n",
    "        img = img.astype('float32') # original is uint16\n",
    "        mx = np.max(img)\n",
    "        if mx:\n",
    "            img/=mx # scale image to [0, 1]\n",
    "        imgs[..., i]+=img\n",
    "    imgs = imgs*255\n",
    "    return imgs.astype(np.uint8), shape0"
   ],
   "outputs": [],
   "metadata": {}
  },
  {
   "cell_type": "code",
   "execution_count": 3,
   "source": [
    "# ref.: https://www.kaggle.com/stainsby/fast-tested-rle\n",
    "def rle_encode(img):\n",
    "    '''\n",
    "    img: numpy array, 1 - mask, 0 - background\n",
    "    Returns run length as string formated\n",
    "    '''\n",
    "    pixels = img.flatten()\n",
    "    pixels = np.concatenate([[0], pixels, [0]])\n",
    "    runs = np.where(pixels[1:] != pixels[:-1])[0] + 1\n",
    "    runs[1::2] -= runs[::2]\n",
    "    return ' '.join(str(x) for x in runs)"
   ],
   "outputs": [],
   "metadata": {}
  },
  {
   "cell_type": "markdown",
   "source": [
    "# Make test submission csv"
   ],
   "metadata": {}
  },
  {
   "cell_type": "code",
   "execution_count": 4,
   "source": [
    "classes = ['large_bowel', 'small_bowel', 'stomach']\n",
    "data_dir = \"../input/uw-madison-gi-tract-image-segmentation/\"\n",
    "test_dir = os.path.join(data_dir, \"test\")\n",
    "sub = pd.read_csv(os.path.join(data_dir, \"sample_submission.csv\"))\n",
    "test_images = glob.glob(os.path.join(test_dir, \"**\", \"*.png\"), recursive = True)\n",
    "\n",
    "if len(test_images) == 0:\n",
    "    print('Can not find test images!!!!!!')\n",
    "    test_dir = os.path.join(data_dir, \"train\")\n",
    "    sub = pd.read_csv(os.path.join(data_dir, \"train.csv\"))[[\"id\", \"class\"]].iloc[:100 * 3]\n",
    "    sub[\"predicted\"] = \"\"\n",
    "    test_images = glob.glob(os.path.join(test_dir, \"**\", \"*.png\"), recursive = True)\n",
    "    \n",
    "id2img = {_.rsplit(\"/\", 4)[2] + \"_\" + \"_\".join(_.rsplit(\"/\", 4)[4].split(\"_\")[:2]): _ for _ in test_images}\n",
    "sub[\"file_name\"] = sub.id.map(id2img)\n",
    "sub[\"days\"] = sub.id.apply(lambda x: \"_\".join(x.split(\"_\")[:2]))\n",
    "fname2index = {f + c: i for f, c, i in zip(sub.file_name, sub[\"class\"], sub.index)}\n",
    "sub"
   ],
   "outputs": [
    {
     "output_type": "stream",
     "name": "stdout",
     "text": [
      "Can not find test images!!!!!!\n"
     ]
    },
    {
     "output_type": "execute_result",
     "data": {
      "text/plain": [
       "                           id        class predicted  \\\n",
       "0    case123_day20_slice_0001  large_bowel             \n",
       "1    case123_day20_slice_0001  small_bowel             \n",
       "2    case123_day20_slice_0001      stomach             \n",
       "3    case123_day20_slice_0002  large_bowel             \n",
       "4    case123_day20_slice_0002  small_bowel             \n",
       "..                        ...          ...       ...   \n",
       "295  case123_day20_slice_0099  small_bowel             \n",
       "296  case123_day20_slice_0099      stomach             \n",
       "297  case123_day20_slice_0100  large_bowel             \n",
       "298  case123_day20_slice_0100  small_bowel             \n",
       "299  case123_day20_slice_0100      stomach             \n",
       "\n",
       "                                             file_name           days  \n",
       "0    ../input/uw-madison-gi-tract-image-segmentatio...  case123_day20  \n",
       "1    ../input/uw-madison-gi-tract-image-segmentatio...  case123_day20  \n",
       "2    ../input/uw-madison-gi-tract-image-segmentatio...  case123_day20  \n",
       "3    ../input/uw-madison-gi-tract-image-segmentatio...  case123_day20  \n",
       "4    ../input/uw-madison-gi-tract-image-segmentatio...  case123_day20  \n",
       "..                                                 ...            ...  \n",
       "295  ../input/uw-madison-gi-tract-image-segmentatio...  case123_day20  \n",
       "296  ../input/uw-madison-gi-tract-image-segmentatio...  case123_day20  \n",
       "297  ../input/uw-madison-gi-tract-image-segmentatio...  case123_day20  \n",
       "298  ../input/uw-madison-gi-tract-image-segmentatio...  case123_day20  \n",
       "299  ../input/uw-madison-gi-tract-image-segmentatio...  case123_day20  \n",
       "\n",
       "[300 rows x 5 columns]"
      ],
      "text/html": [
       "<div>\n",
       "<style scoped>\n",
       "    .dataframe tbody tr th:only-of-type {\n",
       "        vertical-align: middle;\n",
       "    }\n",
       "\n",
       "    .dataframe tbody tr th {\n",
       "        vertical-align: top;\n",
       "    }\n",
       "\n",
       "    .dataframe thead th {\n",
       "        text-align: right;\n",
       "    }\n",
       "</style>\n",
       "<table border=\"1\" class=\"dataframe\">\n",
       "  <thead>\n",
       "    <tr style=\"text-align: right;\">\n",
       "      <th></th>\n",
       "      <th>id</th>\n",
       "      <th>class</th>\n",
       "      <th>predicted</th>\n",
       "      <th>file_name</th>\n",
       "      <th>days</th>\n",
       "    </tr>\n",
       "  </thead>\n",
       "  <tbody>\n",
       "    <tr>\n",
       "      <th>0</th>\n",
       "      <td>case123_day20_slice_0001</td>\n",
       "      <td>large_bowel</td>\n",
       "      <td></td>\n",
       "      <td>../input/uw-madison-gi-tract-image-segmentatio...</td>\n",
       "      <td>case123_day20</td>\n",
       "    </tr>\n",
       "    <tr>\n",
       "      <th>1</th>\n",
       "      <td>case123_day20_slice_0001</td>\n",
       "      <td>small_bowel</td>\n",
       "      <td></td>\n",
       "      <td>../input/uw-madison-gi-tract-image-segmentatio...</td>\n",
       "      <td>case123_day20</td>\n",
       "    </tr>\n",
       "    <tr>\n",
       "      <th>2</th>\n",
       "      <td>case123_day20_slice_0001</td>\n",
       "      <td>stomach</td>\n",
       "      <td></td>\n",
       "      <td>../input/uw-madison-gi-tract-image-segmentatio...</td>\n",
       "      <td>case123_day20</td>\n",
       "    </tr>\n",
       "    <tr>\n",
       "      <th>3</th>\n",
       "      <td>case123_day20_slice_0002</td>\n",
       "      <td>large_bowel</td>\n",
       "      <td></td>\n",
       "      <td>../input/uw-madison-gi-tract-image-segmentatio...</td>\n",
       "      <td>case123_day20</td>\n",
       "    </tr>\n",
       "    <tr>\n",
       "      <th>4</th>\n",
       "      <td>case123_day20_slice_0002</td>\n",
       "      <td>small_bowel</td>\n",
       "      <td></td>\n",
       "      <td>../input/uw-madison-gi-tract-image-segmentatio...</td>\n",
       "      <td>case123_day20</td>\n",
       "    </tr>\n",
       "    <tr>\n",
       "      <th>...</th>\n",
       "      <td>...</td>\n",
       "      <td>...</td>\n",
       "      <td>...</td>\n",
       "      <td>...</td>\n",
       "      <td>...</td>\n",
       "    </tr>\n",
       "    <tr>\n",
       "      <th>295</th>\n",
       "      <td>case123_day20_slice_0099</td>\n",
       "      <td>small_bowel</td>\n",
       "      <td></td>\n",
       "      <td>../input/uw-madison-gi-tract-image-segmentatio...</td>\n",
       "      <td>case123_day20</td>\n",
       "    </tr>\n",
       "    <tr>\n",
       "      <th>296</th>\n",
       "      <td>case123_day20_slice_0099</td>\n",
       "      <td>stomach</td>\n",
       "      <td></td>\n",
       "      <td>../input/uw-madison-gi-tract-image-segmentatio...</td>\n",
       "      <td>case123_day20</td>\n",
       "    </tr>\n",
       "    <tr>\n",
       "      <th>297</th>\n",
       "      <td>case123_day20_slice_0100</td>\n",
       "      <td>large_bowel</td>\n",
       "      <td></td>\n",
       "      <td>../input/uw-madison-gi-tract-image-segmentatio...</td>\n",
       "      <td>case123_day20</td>\n",
       "    </tr>\n",
       "    <tr>\n",
       "      <th>298</th>\n",
       "      <td>case123_day20_slice_0100</td>\n",
       "      <td>small_bowel</td>\n",
       "      <td></td>\n",
       "      <td>../input/uw-madison-gi-tract-image-segmentatio...</td>\n",
       "      <td>case123_day20</td>\n",
       "    </tr>\n",
       "    <tr>\n",
       "      <th>299</th>\n",
       "      <td>case123_day20_slice_0100</td>\n",
       "      <td>stomach</td>\n",
       "      <td></td>\n",
       "      <td>../input/uw-madison-gi-tract-image-segmentatio...</td>\n",
       "      <td>case123_day20</td>\n",
       "    </tr>\n",
       "  </tbody>\n",
       "</table>\n",
       "<p>300 rows × 5 columns</p>\n",
       "</div>"
      ]
     },
     "metadata": {},
     "execution_count": 4
    }
   ],
   "metadata": {}
  },
  {
   "cell_type": "markdown",
   "source": [
    "# predict"
   ],
   "metadata": {}
  },
  {
   "cell_type": "code",
   "execution_count": 8,
   "source": [
    "for day, group in tqdm(sub.groupby(\"days\")):\n",
    "    for file_name in group.file_name.unique():\n",
    "        img = cv2.imread(file_name, cv2.IMREAD_ANYDEPTH)\n",
    "        old_size = img.shape[:2]\n",
    "        s = int(os.path.basename(file_name).split(\"_\")[1])\n",
    "        file_names = [file_name.replace(f\"slice_{s:04d}\", f\"slice_{s + i:04d}\") for i in range(-2, 3)]\n",
    "        file_names = [_ for _ in file_names if os.path.exists(_)]\n",
    "        file_names = [file_names[0], file_name, file_names[-1]]\n",
    "        imgs, shape0 = load_imgs(file_names)\n",
    "        res = inference_segmentor(model, imgs)[0]\n",
    "        res = cv2.resize(res, old_size[::-1], interpolation = cv2.INTER_NEAREST)\n",
    "        for j in range(3):\n",
    "            rle = rle_encode(res[...,j])\n",
    "            index = fname2index[file_name + classes[j]]\n",
    "            sub.loc[index, \"predicted\"] = rle\n",
    "        \n"
   ],
   "outputs": [
    {
     "output_type": "display_data",
     "data": {
      "text/plain": [
       "  0%|          | 0/1 [00:00<?, ?it/s]"
      ],
      "application/vnd.jupyter.widget-view+json": {
       "version_major": 2,
       "version_minor": 0,
       "model_id": "c7af77c250d54920a660e8c51faf1766"
      }
     },
     "metadata": {}
    },
    {
     "output_type": "display_data",
     "data": {
      "text/plain": [
       "<Figure size 432x288 with 1 Axes>"
      ],
      "image/svg+xml": "<?xml version=\"1.0\" encoding=\"utf-8\" standalone=\"no\"?>\n<!DOCTYPE svg PUBLIC \"-//W3C//DTD SVG 1.1//EN\"\n  \"http://www.w3.org/Graphics/SVG/1.1/DTD/svg11.dtd\">\n<svg xmlns:xlink=\"http://www.w3.org/1999/xlink\" width=\"301.4155pt\" height=\"251.977594pt\" viewBox=\"0 0 301.4155 251.977594\" xmlns=\"http://www.w3.org/2000/svg\" version=\"1.1\">\n <metadata>\n  <rdf:RDF xmlns:dc=\"http://purl.org/dc/elements/1.1/\" xmlns:cc=\"http://creativecommons.org/ns#\" xmlns:rdf=\"http://www.w3.org/1999/02/22-rdf-syntax-ns#\">\n   <cc:Work>\n    <dc:type rdf:resource=\"http://purl.org/dc/dcmitype/StillImage\"/>\n    <dc:date>2022-06-02T16:43:32.843939</dc:date>\n    <dc:format>image/svg+xml</dc:format>\n    <dc:creator>\n     <cc:Agent>\n      <dc:title>Matplotlib v3.5.2, https://matplotlib.org/</dc:title>\n     </cc:Agent>\n    </dc:creator>\n   </cc:Work>\n  </rdf:RDF>\n </metadata>\n <defs>\n  <style type=\"text/css\">*{stroke-linejoin: round; stroke-linecap: butt}</style>\n </defs>\n <g id=\"figure_1\">\n  <g id=\"patch_1\">\n   <path d=\"M -0 251.977594 \nL 301.4155 251.977594 \nL 301.4155 0 \nL -0 0 \nL -0 251.977594 \nz\n\" style=\"fill: none\"/>\n  </g>\n  <g id=\"axes_1\">\n   <g id=\"patch_2\">\n    <path d=\"M 33.2875 228.099469 \nL 294.2155 228.099469 \nL 294.2155 10.659469 \nL 33.2875 10.659469 \nz\n\" style=\"fill: #ffffff\"/>\n   </g>\n   <g clip-path=\"url(#pe4b228403e)\">\n    <image xlink:href=\"data:image/png;base64,\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\" id=\"image868bf9c53d\" transform=\"scale(1 -1)translate(0 -218)\" x=\"33.2875\" y=\"-10.099469\" width=\"261\" height=\"218\"/>\n   </g>\n   <g id=\"matplotlib.axis_1\">\n    <g id=\"xtick_1\">\n     <g id=\"line2d_1\">\n      <defs>\n       <path id=\"mfb98f3e3a4\" d=\"M 0 0 \nL 0 3.5 \n\" style=\"stroke: #000000; stroke-width: 0.8\"/>\n      </defs>\n      <g>\n       <use xlink:href=\"#mfb98f3e3a4\" x=\"33.62725\" y=\"228.099469\" style=\"stroke: #000000; stroke-width: 0.8\"/>\n      </g>\n     </g>\n     <g id=\"text_1\">\n      <!-- 0 -->\n      <g transform=\"translate(30.446 242.697906)scale(0.1 -0.1)\">\n       <defs>\n        <path id=\"DejaVuSans-30\" d=\"M 2034 4250 \nQ 1547 4250 1301 3770 \nQ 1056 3291 1056 2328 \nQ 1056 1369 1301 889 \nQ 1547 409 2034 409 \nQ 2525 409 2770 889 \nQ 3016 1369 3016 2328 \nQ 3016 3291 2770 3770 \nQ 2525 4250 2034 4250 \nz\nM 2034 4750 \nQ 2819 4750 3233 4129 \nQ 3647 3509 3647 2328 \nQ 3647 1150 3233 529 \nQ 2819 -91 2034 -91 \nQ 1250 -91 836 529 \nQ 422 1150 422 2328 \nQ 422 3509 836 4129 \nQ 1250 4750 2034 4750 \nz\n\" transform=\"scale(0.015625)\"/>\n       </defs>\n       <use xlink:href=\"#DejaVuSans-30\"/>\n      </g>\n     </g>\n    </g>\n    <g id=\"xtick_2\">\n     <g id=\"line2d_2\">\n      <g>\n       <use xlink:href=\"#mfb98f3e3a4\" x=\"67.60225\" y=\"228.099469\" style=\"stroke: #000000; stroke-width: 0.8\"/>\n      </g>\n     </g>\n     <g id=\"text_2\">\n      <!-- 50 -->\n      <g transform=\"translate(61.23975 242.697906)scale(0.1 -0.1)\">\n       <defs>\n        <path id=\"DejaVuSans-35\" d=\"M 691 4666 \nL 3169 4666 \nL 3169 4134 \nL 1269 4134 \nL 1269 2991 \nQ 1406 3038 1543 3061 \nQ 1681 3084 1819 3084 \nQ 2600 3084 3056 2656 \nQ 3513 2228 3513 1497 \nQ 3513 744 3044 326 \nQ 2575 -91 1722 -91 \nQ 1428 -91 1123 -41 \nQ 819 9 494 109 \nL 494 744 \nQ 775 591 1075 516 \nQ 1375 441 1709 441 \nQ 2250 441 2565 725 \nQ 2881 1009 2881 1497 \nQ 2881 1984 2565 2268 \nQ 2250 2553 1709 2553 \nQ 1456 2553 1204 2497 \nQ 953 2441 691 2322 \nL 691 4666 \nz\n\" transform=\"scale(0.015625)\"/>\n       </defs>\n       <use xlink:href=\"#DejaVuSans-35\"/>\n       <use xlink:href=\"#DejaVuSans-30\" x=\"63.623047\"/>\n      </g>\n     </g>\n    </g>\n    <g id=\"xtick_3\">\n     <g id=\"line2d_3\">\n      <g>\n       <use xlink:href=\"#mfb98f3e3a4\" x=\"101.57725\" y=\"228.099469\" style=\"stroke: #000000; stroke-width: 0.8\"/>\n      </g>\n     </g>\n     <g id=\"text_3\">\n      <!-- 100 -->\n      <g transform=\"translate(92.0335 242.697906)scale(0.1 -0.1)\">\n       <defs>\n        <path id=\"DejaVuSans-31\" d=\"M 794 531 \nL 1825 531 \nL 1825 4091 \nL 703 3866 \nL 703 4441 \nL 1819 4666 \nL 2450 4666 \nL 2450 531 \nL 3481 531 \nL 3481 0 \nL 794 0 \nL 794 531 \nz\n\" transform=\"scale(0.015625)\"/>\n       </defs>\n       <use xlink:href=\"#DejaVuSans-31\"/>\n       <use xlink:href=\"#DejaVuSans-30\" x=\"63.623047\"/>\n       <use xlink:href=\"#DejaVuSans-30\" x=\"127.246094\"/>\n      </g>\n     </g>\n    </g>\n    <g id=\"xtick_4\">\n     <g id=\"line2d_4\">\n      <g>\n       <use xlink:href=\"#mfb98f3e3a4\" x=\"135.55225\" y=\"228.099469\" style=\"stroke: #000000; stroke-width: 0.8\"/>\n      </g>\n     </g>\n     <g id=\"text_4\">\n      <!-- 150 -->\n      <g transform=\"translate(126.0085 242.697906)scale(0.1 -0.1)\">\n       <use xlink:href=\"#DejaVuSans-31\"/>\n       <use xlink:href=\"#DejaVuSans-35\" x=\"63.623047\"/>\n       <use xlink:href=\"#DejaVuSans-30\" x=\"127.246094\"/>\n      </g>\n     </g>\n    </g>\n    <g id=\"xtick_5\">\n     <g id=\"line2d_5\">\n      <g>\n       <use xlink:href=\"#mfb98f3e3a4\" x=\"169.52725\" y=\"228.099469\" style=\"stroke: #000000; stroke-width: 0.8\"/>\n      </g>\n     </g>\n     <g id=\"text_5\">\n      <!-- 200 -->\n      <g transform=\"translate(159.9835 242.697906)scale(0.1 -0.1)\">\n       <defs>\n        <path id=\"DejaVuSans-32\" d=\"M 1228 531 \nL 3431 531 \nL 3431 0 \nL 469 0 \nL 469 531 \nQ 828 903 1448 1529 \nQ 2069 2156 2228 2338 \nQ 2531 2678 2651 2914 \nQ 2772 3150 2772 3378 \nQ 2772 3750 2511 3984 \nQ 2250 4219 1831 4219 \nQ 1534 4219 1204 4116 \nQ 875 4013 500 3803 \nL 500 4441 \nQ 881 4594 1212 4672 \nQ 1544 4750 1819 4750 \nQ 2544 4750 2975 4387 \nQ 3406 4025 3406 3419 \nQ 3406 3131 3298 2873 \nQ 3191 2616 2906 2266 \nQ 2828 2175 2409 1742 \nQ 1991 1309 1228 531 \nz\n\" transform=\"scale(0.015625)\"/>\n       </defs>\n       <use xlink:href=\"#DejaVuSans-32\"/>\n       <use xlink:href=\"#DejaVuSans-30\" x=\"63.623047\"/>\n       <use xlink:href=\"#DejaVuSans-30\" x=\"127.246094\"/>\n      </g>\n     </g>\n    </g>\n    <g id=\"xtick_6\">\n     <g id=\"line2d_6\">\n      <g>\n       <use xlink:href=\"#mfb98f3e3a4\" x=\"203.50225\" y=\"228.099469\" style=\"stroke: #000000; stroke-width: 0.8\"/>\n      </g>\n     </g>\n     <g id=\"text_6\">\n      <!-- 250 -->\n      <g transform=\"translate(193.9585 242.697906)scale(0.1 -0.1)\">\n       <use xlink:href=\"#DejaVuSans-32\"/>\n       <use xlink:href=\"#DejaVuSans-35\" x=\"63.623047\"/>\n       <use xlink:href=\"#DejaVuSans-30\" x=\"127.246094\"/>\n      </g>\n     </g>\n    </g>\n    <g id=\"xtick_7\">\n     <g id=\"line2d_7\">\n      <g>\n       <use xlink:href=\"#mfb98f3e3a4\" x=\"237.47725\" y=\"228.099469\" style=\"stroke: #000000; stroke-width: 0.8\"/>\n      </g>\n     </g>\n     <g id=\"text_7\">\n      <!-- 300 -->\n      <g transform=\"translate(227.9335 242.697906)scale(0.1 -0.1)\">\n       <defs>\n        <path id=\"DejaVuSans-33\" d=\"M 2597 2516 \nQ 3050 2419 3304 2112 \nQ 3559 1806 3559 1356 \nQ 3559 666 3084 287 \nQ 2609 -91 1734 -91 \nQ 1441 -91 1130 -33 \nQ 819 25 488 141 \nL 488 750 \nQ 750 597 1062 519 \nQ 1375 441 1716 441 \nQ 2309 441 2620 675 \nQ 2931 909 2931 1356 \nQ 2931 1769 2642 2001 \nQ 2353 2234 1838 2234 \nL 1294 2234 \nL 1294 2753 \nL 1863 2753 \nQ 2328 2753 2575 2939 \nQ 2822 3125 2822 3475 \nQ 2822 3834 2567 4026 \nQ 2313 4219 1838 4219 \nQ 1578 4219 1281 4162 \nQ 984 4106 628 3988 \nL 628 4550 \nQ 988 4650 1302 4700 \nQ 1616 4750 1894 4750 \nQ 2613 4750 3031 4423 \nQ 3450 4097 3450 3541 \nQ 3450 3153 3228 2886 \nQ 3006 2619 2597 2516 \nz\n\" transform=\"scale(0.015625)\"/>\n       </defs>\n       <use xlink:href=\"#DejaVuSans-33\"/>\n       <use xlink:href=\"#DejaVuSans-30\" x=\"63.623047\"/>\n       <use xlink:href=\"#DejaVuSans-30\" x=\"127.246094\"/>\n      </g>\n     </g>\n    </g>\n    <g id=\"xtick_8\">\n     <g id=\"line2d_8\">\n      <g>\n       <use xlink:href=\"#mfb98f3e3a4\" x=\"271.45225\" y=\"228.099469\" style=\"stroke: #000000; stroke-width: 0.8\"/>\n      </g>\n     </g>\n     <g id=\"text_8\">\n      <!-- 350 -->\n      <g transform=\"translate(261.9085 242.697906)scale(0.1 -0.1)\">\n       <use xlink:href=\"#DejaVuSans-33\"/>\n       <use xlink:href=\"#DejaVuSans-35\" x=\"63.623047\"/>\n       <use xlink:href=\"#DejaVuSans-30\" x=\"127.246094\"/>\n      </g>\n     </g>\n    </g>\n   </g>\n   <g id=\"matplotlib.axis_2\">\n    <g id=\"ytick_1\">\n     <g id=\"line2d_9\">\n      <defs>\n       <path id=\"m40a35a3fbb\" d=\"M 0 0 \nL -3.5 0 \n\" style=\"stroke: #000000; stroke-width: 0.8\"/>\n      </defs>\n      <g>\n       <use xlink:href=\"#m40a35a3fbb\" x=\"33.2875\" y=\"10.999219\" style=\"stroke: #000000; stroke-width: 0.8\"/>\n      </g>\n     </g>\n     <g id=\"text_9\">\n      <!-- 0 -->\n      <g transform=\"translate(19.925 14.798438)scale(0.1 -0.1)\">\n       <use xlink:href=\"#DejaVuSans-30\"/>\n      </g>\n     </g>\n    </g>\n    <g id=\"ytick_2\">\n     <g id=\"line2d_10\">\n      <g>\n       <use xlink:href=\"#m40a35a3fbb\" x=\"33.2875\" y=\"44.974219\" style=\"stroke: #000000; stroke-width: 0.8\"/>\n      </g>\n     </g>\n     <g id=\"text_10\">\n      <!-- 50 -->\n      <g transform=\"translate(13.5625 48.773438)scale(0.1 -0.1)\">\n       <use xlink:href=\"#DejaVuSans-35\"/>\n       <use xlink:href=\"#DejaVuSans-30\" x=\"63.623047\"/>\n      </g>\n     </g>\n    </g>\n    <g id=\"ytick_3\">\n     <g id=\"line2d_11\">\n      <g>\n       <use xlink:href=\"#m40a35a3fbb\" x=\"33.2875\" y=\"78.949219\" style=\"stroke: #000000; stroke-width: 0.8\"/>\n      </g>\n     </g>\n     <g id=\"text_11\">\n      <!-- 100 -->\n      <g transform=\"translate(7.2 82.748437)scale(0.1 -0.1)\">\n       <use xlink:href=\"#DejaVuSans-31\"/>\n       <use xlink:href=\"#DejaVuSans-30\" x=\"63.623047\"/>\n       <use xlink:href=\"#DejaVuSans-30\" x=\"127.246094\"/>\n      </g>\n     </g>\n    </g>\n    <g id=\"ytick_4\">\n     <g id=\"line2d_12\">\n      <g>\n       <use xlink:href=\"#m40a35a3fbb\" x=\"33.2875\" y=\"112.924219\" style=\"stroke: #000000; stroke-width: 0.8\"/>\n      </g>\n     </g>\n     <g id=\"text_12\">\n      <!-- 150 -->\n      <g transform=\"translate(7.2 116.723438)scale(0.1 -0.1)\">\n       <use xlink:href=\"#DejaVuSans-31\"/>\n       <use xlink:href=\"#DejaVuSans-35\" x=\"63.623047\"/>\n       <use xlink:href=\"#DejaVuSans-30\" x=\"127.246094\"/>\n      </g>\n     </g>\n    </g>\n    <g id=\"ytick_5\">\n     <g id=\"line2d_13\">\n      <g>\n       <use xlink:href=\"#m40a35a3fbb\" x=\"33.2875\" y=\"146.899219\" style=\"stroke: #000000; stroke-width: 0.8\"/>\n      </g>\n     </g>\n     <g id=\"text_13\">\n      <!-- 200 -->\n      <g transform=\"translate(7.2 150.698438)scale(0.1 -0.1)\">\n       <use xlink:href=\"#DejaVuSans-32\"/>\n       <use xlink:href=\"#DejaVuSans-30\" x=\"63.623047\"/>\n       <use xlink:href=\"#DejaVuSans-30\" x=\"127.246094\"/>\n      </g>\n     </g>\n    </g>\n    <g id=\"ytick_6\">\n     <g id=\"line2d_14\">\n      <g>\n       <use xlink:href=\"#m40a35a3fbb\" x=\"33.2875\" y=\"180.874219\" style=\"stroke: #000000; stroke-width: 0.8\"/>\n      </g>\n     </g>\n     <g id=\"text_14\">\n      <!-- 250 -->\n      <g transform=\"translate(7.2 184.673438)scale(0.1 -0.1)\">\n       <use xlink:href=\"#DejaVuSans-32\"/>\n       <use xlink:href=\"#DejaVuSans-35\" x=\"63.623047\"/>\n       <use xlink:href=\"#DejaVuSans-30\" x=\"127.246094\"/>\n      </g>\n     </g>\n    </g>\n    <g id=\"ytick_7\">\n     <g id=\"line2d_15\">\n      <g>\n       <use xlink:href=\"#m40a35a3fbb\" x=\"33.2875\" y=\"214.849219\" style=\"stroke: #000000; stroke-width: 0.8\"/>\n      </g>\n     </g>\n     <g id=\"text_15\">\n      <!-- 300 -->\n      <g transform=\"translate(7.2 218.648438)scale(0.1 -0.1)\">\n       <use xlink:href=\"#DejaVuSans-33\"/>\n       <use xlink:href=\"#DejaVuSans-30\" x=\"63.623047\"/>\n       <use xlink:href=\"#DejaVuSans-30\" x=\"127.246094\"/>\n      </g>\n     </g>\n    </g>\n   </g>\n   <g id=\"patch_3\">\n    <path d=\"M 33.2875 228.099469 \nL 33.2875 10.659469 \n\" style=\"fill: none; stroke: #000000; stroke-width: 0.8; stroke-linejoin: miter; stroke-linecap: square\"/>\n   </g>\n   <g id=\"patch_4\">\n    <path d=\"M 294.2155 228.099469 \nL 294.2155 10.659469 \n\" style=\"fill: none; stroke: #000000; stroke-width: 0.8; stroke-linejoin: miter; stroke-linecap: square\"/>\n   </g>\n   <g id=\"patch_5\">\n    <path d=\"M 33.2875 228.099469 \nL 294.2155 228.099469 \n\" style=\"fill: none; stroke: #000000; stroke-width: 0.8; stroke-linejoin: miter; stroke-linecap: square\"/>\n   </g>\n   <g id=\"patch_6\">\n    <path d=\"M 33.2875 10.659469 \nL 294.2155 10.659469 \n\" style=\"fill: none; stroke: #000000; stroke-width: 0.8; stroke-linejoin: miter; stroke-linecap: square\"/>\n   </g>\n  </g>\n </g>\n <defs>\n  <clipPath id=\"pe4b228403e\">\n   <rect x=\"33.2875\" y=\"10.659469\" width=\"260.928\" height=\"217.44\"/>\n  </clipPath>\n </defs>\n</svg>\n",
      "image/png": "[encoded data removed]"
     },
     "metadata": {
      "needs_background": "light"
     }
    }
   ],
   "metadata": {}
  },
  {
   "cell_type": "markdown",
   "source": [
    "# Format submission"
   ],
   "metadata": {}
  },
  {
   "cell_type": "code",
   "execution_count": 10,
   "source": [
    "sub = sub[[\"id\", \"class\", \"predicted\"]]\n",
    "sub.to_csv(\"submission.csv\", index = False)\n",
    "sub"
   ],
   "outputs": [
    {
     "output_type": "execute_result",
     "data": {
      "text/plain": [
       "                           id        class  \\\n",
       "0    case123_day20_slice_0001  large_bowel   \n",
       "1    case123_day20_slice_0001  small_bowel   \n",
       "2    case123_day20_slice_0001      stomach   \n",
       "3    case123_day20_slice_0002  large_bowel   \n",
       "4    case123_day20_slice_0002  small_bowel   \n",
       "..                        ...          ...   \n",
       "295  case123_day20_slice_0099  small_bowel   \n",
       "296  case123_day20_slice_0099      stomach   \n",
       "297  case123_day20_slice_0100  large_bowel   \n",
       "298  case123_day20_slice_0100  small_bowel   \n",
       "299  case123_day20_slice_0100      stomach   \n",
       "\n",
       "                                             predicted  \n",
       "0                                                       \n",
       "1                                                       \n",
       "2                                                       \n",
       "3                                                       \n",
       "4                                                       \n",
       "..                                                 ...  \n",
       "295  23815 5 24080 7 24120 6 24345 9 24377 4 24384 ...  \n",
       "296                                                     \n",
       "297  18243 2 18507 7 18517 5 18773 16 19039 17 1926...  \n",
       "298  23588 4 23815 5 23851 9 24080 7 24111 15 24345...  \n",
       "299                                                     \n",
       "\n",
       "[300 rows x 3 columns]"
      ],
      "text/html": [
       "<div>\n",
       "<style scoped>\n",
       "    .dataframe tbody tr th:only-of-type {\n",
       "        vertical-align: middle;\n",
       "    }\n",
       "\n",
       "    .dataframe tbody tr th {\n",
       "        vertical-align: top;\n",
       "    }\n",
       "\n",
       "    .dataframe thead th {\n",
       "        text-align: right;\n",
       "    }\n",
       "</style>\n",
       "<table border=\"1\" class=\"dataframe\">\n",
       "  <thead>\n",
       "    <tr style=\"text-align: right;\">\n",
       "      <th></th>\n",
       "      <th>id</th>\n",
       "      <th>class</th>\n",
       "      <th>predicted</th>\n",
       "    </tr>\n",
       "  </thead>\n",
       "  <tbody>\n",
       "    <tr>\n",
       "      <th>0</th>\n",
       "      <td>case123_day20_slice_0001</td>\n",
       "      <td>large_bowel</td>\n",
       "      <td></td>\n",
       "    </tr>\n",
       "    <tr>\n",
       "      <th>1</th>\n",
       "      <td>case123_day20_slice_0001</td>\n",
       "      <td>small_bowel</td>\n",
       "      <td></td>\n",
       "    </tr>\n",
       "    <tr>\n",
       "      <th>2</th>\n",
       "      <td>case123_day20_slice_0001</td>\n",
       "      <td>stomach</td>\n",
       "      <td></td>\n",
       "    </tr>\n",
       "    <tr>\n",
       "      <th>3</th>\n",
       "      <td>case123_day20_slice_0002</td>\n",
       "      <td>large_bowel</td>\n",
       "      <td></td>\n",
       "    </tr>\n",
       "    <tr>\n",
       "      <th>4</th>\n",
       "      <td>case123_day20_slice_0002</td>\n",
       "      <td>small_bowel</td>\n",
       "      <td></td>\n",
       "    </tr>\n",
       "    <tr>\n",
       "      <th>...</th>\n",
       "      <td>...</td>\n",
       "      <td>...</td>\n",
       "      <td>...</td>\n",
       "    </tr>\n",
       "    <tr>\n",
       "      <th>295</th>\n",
       "      <td>case123_day20_slice_0099</td>\n",
       "      <td>small_bowel</td>\n",
       "      <td>23815 5 24080 7 24120 6 24345 9 24377 4 24384 ...</td>\n",
       "    </tr>\n",
       "    <tr>\n",
       "      <th>296</th>\n",
       "      <td>case123_day20_slice_0099</td>\n",
       "      <td>stomach</td>\n",
       "      <td></td>\n",
       "    </tr>\n",
       "    <tr>\n",
       "      <th>297</th>\n",
       "      <td>case123_day20_slice_0100</td>\n",
       "      <td>large_bowel</td>\n",
       "      <td>18243 2 18507 7 18517 5 18773 16 19039 17 1926...</td>\n",
       "    </tr>\n",
       "    <tr>\n",
       "      <th>298</th>\n",
       "      <td>case123_day20_slice_0100</td>\n",
       "      <td>small_bowel</td>\n",
       "      <td>23588 4 23815 5 23851 9 24080 7 24111 15 24345...</td>\n",
       "    </tr>\n",
       "    <tr>\n",
       "      <th>299</th>\n",
       "      <td>case123_day20_slice_0100</td>\n",
       "      <td>stomach</td>\n",
       "      <td></td>\n",
       "    </tr>\n",
       "  </tbody>\n",
       "</table>\n",
       "<p>300 rows × 3 columns</p>\n",
       "</div>"
      ]
     },
     "metadata": {},
     "execution_count": 10
    }
   ],
   "metadata": {}
  }
 ],
 "metadata": {
  "interpreter": {
   "hash": "9bdac5f1dddc9841bf3283893a0d244fece21c9986635aaffbc3f48698e1892e"
  },
  "kernelspec": {
   "name": "python3",
   "display_name": "Python 3.10.4 64-bit ('mmseg-kaggle': conda)"
  },
  "language_info": {
   "codemirror_mode": {
    "name": "ipython",
    "version": 3
   },
   "file_extension": ".py",
   "mimetype": "text/x-python",
   "name": "python",
   "nbconvert_exporter": "python",
   "pygments_lexer": "ipython3",
   "version": "3.10.4"
  }
 },
 "nbformat": 4,
 "nbformat_minor": 2
}